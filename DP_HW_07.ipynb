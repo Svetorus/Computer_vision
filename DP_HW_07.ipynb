{
  "nbformat": 4,
  "nbformat_minor": 0,
  "metadata": {
    "colab": {
      "name": "DP_HW_07.ipynb",
      "provenance": [],
      "collapsed_sections": [],
      "machine_shape": "hm",
      "include_colab_link": true
    },
    "language_info": {
      "codemirror_mode": {
        "name": "ipython",
        "version": 3
      },
      "file_extension": ".py",
      "mimetype": "text/x-python",
      "name": "python",
      "nbconvert_exporter": "python",
      "pygments_lexer": "ipython3",
      "version": "3.7.1"
    },
    "kernelspec": {
      "name": "python3",
      "display_name": "Python 3"
    },
    "widgets": {
      "application/vnd.jupyter.widget-state+json": {
        "d7512de7e5d04b219648492768de4fba": {
          "model_module": "@jupyter-widgets/controls",
          "model_name": "HBoxModel",
          "state": {
            "_view_name": "HBoxView",
            "_dom_classes": [],
            "_model_name": "HBoxModel",
            "_view_module": "@jupyter-widgets/controls",
            "_model_module_version": "1.5.0",
            "_view_count": null,
            "_view_module_version": "1.5.0",
            "box_style": "",
            "layout": "IPY_MODEL_b69747fe79344aeb86d8b99acc0c1c79",
            "_model_module": "@jupyter-widgets/controls",
            "children": [
              "IPY_MODEL_90999657de9441d792740d60a2417468",
              "IPY_MODEL_baba36ad7a4f4d829713853b7d1f6a2e"
            ]
          }
        },
        "b69747fe79344aeb86d8b99acc0c1c79": {
          "model_module": "@jupyter-widgets/base",
          "model_name": "LayoutModel",
          "state": {
            "_view_name": "LayoutView",
            "grid_template_rows": null,
            "right": null,
            "justify_content": null,
            "_view_module": "@jupyter-widgets/base",
            "overflow": null,
            "_model_module_version": "1.2.0",
            "_view_count": null,
            "flex_flow": null,
            "width": null,
            "min_width": null,
            "border": null,
            "align_items": null,
            "bottom": null,
            "_model_module": "@jupyter-widgets/base",
            "top": null,
            "grid_column": null,
            "overflow_y": null,
            "overflow_x": null,
            "grid_auto_flow": null,
            "grid_area": null,
            "grid_template_columns": null,
            "flex": null,
            "_model_name": "LayoutModel",
            "justify_items": null,
            "grid_row": null,
            "max_height": null,
            "align_content": null,
            "visibility": null,
            "align_self": null,
            "height": null,
            "min_height": null,
            "padding": null,
            "grid_auto_rows": null,
            "grid_gap": null,
            "max_width": null,
            "order": null,
            "_view_module_version": "1.2.0",
            "grid_template_areas": null,
            "object_position": null,
            "object_fit": null,
            "grid_auto_columns": null,
            "margin": null,
            "display": null,
            "left": null
          }
        },
        "90999657de9441d792740d60a2417468": {
          "model_module": "@jupyter-widgets/controls",
          "model_name": "FloatProgressModel",
          "state": {
            "_view_name": "ProgressView",
            "style": "IPY_MODEL_80c7500cfedb4fd9b1f22fef3cce1c6a",
            "_dom_classes": [],
            "description": "100%",
            "_model_name": "FloatProgressModel",
            "bar_style": "success",
            "max": 200,
            "_view_module": "@jupyter-widgets/controls",
            "_model_module_version": "1.5.0",
            "value": 200,
            "_view_count": null,
            "_view_module_version": "1.5.0",
            "orientation": "horizontal",
            "min": 0,
            "description_tooltip": null,
            "_model_module": "@jupyter-widgets/controls",
            "layout": "IPY_MODEL_c8b26419b71443e69baaf075002307e1"
          }
        },
        "baba36ad7a4f4d829713853b7d1f6a2e": {
          "model_module": "@jupyter-widgets/controls",
          "model_name": "HTMLModel",
          "state": {
            "_view_name": "HTMLView",
            "style": "IPY_MODEL_f205c5bd0d1747288996ca46c1a21026",
            "_dom_classes": [],
            "description": "",
            "_model_name": "HTMLModel",
            "placeholder": "​",
            "_view_module": "@jupyter-widgets/controls",
            "_model_module_version": "1.5.0",
            "value": " 200/200 [03:51&lt;00:00,  1.16s/it]",
            "_view_count": null,
            "_view_module_version": "1.5.0",
            "description_tooltip": null,
            "_model_module": "@jupyter-widgets/controls",
            "layout": "IPY_MODEL_e9779be59289433bb8743a4f104868c2"
          }
        },
        "80c7500cfedb4fd9b1f22fef3cce1c6a": {
          "model_module": "@jupyter-widgets/controls",
          "model_name": "ProgressStyleModel",
          "state": {
            "_view_name": "StyleView",
            "_model_name": "ProgressStyleModel",
            "description_width": "initial",
            "_view_module": "@jupyter-widgets/base",
            "_model_module_version": "1.5.0",
            "_view_count": null,
            "_view_module_version": "1.2.0",
            "bar_color": null,
            "_model_module": "@jupyter-widgets/controls"
          }
        },
        "c8b26419b71443e69baaf075002307e1": {
          "model_module": "@jupyter-widgets/base",
          "model_name": "LayoutModel",
          "state": {
            "_view_name": "LayoutView",
            "grid_template_rows": null,
            "right": null,
            "justify_content": null,
            "_view_module": "@jupyter-widgets/base",
            "overflow": null,
            "_model_module_version": "1.2.0",
            "_view_count": null,
            "flex_flow": null,
            "width": null,
            "min_width": null,
            "border": null,
            "align_items": null,
            "bottom": null,
            "_model_module": "@jupyter-widgets/base",
            "top": null,
            "grid_column": null,
            "overflow_y": null,
            "overflow_x": null,
            "grid_auto_flow": null,
            "grid_area": null,
            "grid_template_columns": null,
            "flex": null,
            "_model_name": "LayoutModel",
            "justify_items": null,
            "grid_row": null,
            "max_height": null,
            "align_content": null,
            "visibility": null,
            "align_self": null,
            "height": null,
            "min_height": null,
            "padding": null,
            "grid_auto_rows": null,
            "grid_gap": null,
            "max_width": null,
            "order": null,
            "_view_module_version": "1.2.0",
            "grid_template_areas": null,
            "object_position": null,
            "object_fit": null,
            "grid_auto_columns": null,
            "margin": null,
            "display": null,
            "left": null
          }
        },
        "f205c5bd0d1747288996ca46c1a21026": {
          "model_module": "@jupyter-widgets/controls",
          "model_name": "DescriptionStyleModel",
          "state": {
            "_view_name": "StyleView",
            "_model_name": "DescriptionStyleModel",
            "description_width": "",
            "_view_module": "@jupyter-widgets/base",
            "_model_module_version": "1.5.0",
            "_view_count": null,
            "_view_module_version": "1.2.0",
            "_model_module": "@jupyter-widgets/controls"
          }
        },
        "e9779be59289433bb8743a4f104868c2": {
          "model_module": "@jupyter-widgets/base",
          "model_name": "LayoutModel",
          "state": {
            "_view_name": "LayoutView",
            "grid_template_rows": null,
            "right": null,
            "justify_content": null,
            "_view_module": "@jupyter-widgets/base",
            "overflow": null,
            "_model_module_version": "1.2.0",
            "_view_count": null,
            "flex_flow": null,
            "width": null,
            "min_width": null,
            "border": null,
            "align_items": null,
            "bottom": null,
            "_model_module": "@jupyter-widgets/base",
            "top": null,
            "grid_column": null,
            "overflow_y": null,
            "overflow_x": null,
            "grid_auto_flow": null,
            "grid_area": null,
            "grid_template_columns": null,
            "flex": null,
            "_model_name": "LayoutModel",
            "justify_items": null,
            "grid_row": null,
            "max_height": null,
            "align_content": null,
            "visibility": null,
            "align_self": null,
            "height": null,
            "min_height": null,
            "padding": null,
            "grid_auto_rows": null,
            "grid_gap": null,
            "max_width": null,
            "order": null,
            "_view_module_version": "1.2.0",
            "grid_template_areas": null,
            "object_position": null,
            "object_fit": null,
            "grid_auto_columns": null,
            "margin": null,
            "display": null,
            "left": null
          }
        }
      }
    },
    "accelerator": "GPU"
  },
  "cells": [
    {
      "cell_type": "markdown",
      "metadata": {
        "id": "view-in-github",
        "colab_type": "text"
      },
      "source": [
        "<a href=\"https://colab.research.google.com/github/Svetorus/Computer_vision/blob/master/DP_HW_07.ipynb\" target=\"_parent\"><img src=\"https://colab.research.google.com/assets/colab-badge.svg\" alt=\"Open In Colab\"/></a>"
      ]
    },
    {
      "cell_type": "markdown",
      "metadata": {
        "id": "y7c-vhTto-1_",
        "colab_type": "text"
      },
      "source": [
        "# Обработка видео\n",
        "Классификация действий по видео\n"
      ]
    },
    {
      "cell_type": "markdown",
      "metadata": {
        "id": "JH2ri2mQTU5s",
        "colab_type": "text"
      },
      "source": [
        "## Переключение версии TensorFlow"
      ]
    },
    {
      "cell_type": "code",
      "metadata": {
        "id": "cqhfvqRrugoS",
        "colab_type": "code",
        "colab": {}
      },
      "source": [
        "%tensorflow_version 2.x"
      ],
      "execution_count": 0,
      "outputs": []
    },
    {
      "cell_type": "code",
      "metadata": {
        "id": "iv4yU3Gb4MlY",
        "colab_type": "code",
        "colab": {}
      },
      "source": [
        "import os\n",
        "import glob\n",
        "import random\n",
        "import numpy as np\n",
        "import matplotlib.pyplot as plt\n",
        "\n",
        "import tensorflow as tf\n",
        "\n",
        "from tqdm.notebook import tqdm"
      ],
      "execution_count": 0,
      "outputs": []
    },
    {
      "cell_type": "code",
      "metadata": {
        "id": "rEbPbpjIDV57",
        "colab_type": "code",
        "outputId": "c7462bdd-32a5-48ec-d2f4-fcbc4f95457f",
        "colab": {
          "base_uri": "https://localhost:8080/",
          "height": 153
        }
      },
      "source": [
        "if 1:\n",
        "    !pip install scikit-video==1.1.11\n",
        "import skvideo.io"
      ],
      "execution_count": 3,
      "outputs": [
        {
          "output_type": "stream",
          "text": [
            "Collecting scikit-video==1.1.11\n",
            "\u001b[?25l  Downloading https://files.pythonhosted.org/packages/b1/a6/c69cad508139a342810ae46e946ebb3256aa6e42f690d901bb68f50582e3/scikit_video-1.1.11-py2.py3-none-any.whl (2.3MB)\n",
            "\r\u001b[K     |▏                               | 10kB 18.8MB/s eta 0:00:01\r\u001b[K     |▎                               | 20kB 1.7MB/s eta 0:00:02\r\u001b[K     |▍                               | 30kB 2.3MB/s eta 0:00:01\r\u001b[K     |▋                               | 40kB 2.5MB/s eta 0:00:01\r\u001b[K     |▊                               | 51kB 2.0MB/s eta 0:00:02\r\u001b[K     |▉                               | 61kB 2.3MB/s eta 0:00:01\r\u001b[K     |█                               | 71kB 2.5MB/s eta 0:00:01\r\u001b[K     |█▏                              | 81kB 2.7MB/s eta 0:00:01\r\u001b[K     |█▎                              | 92kB 2.9MB/s eta 0:00:01\r\u001b[K     |█▌                              | 102kB 2.8MB/s eta 0:00:01\r\u001b[K     |█▋                              | 112kB 2.8MB/s eta 0:00:01\r\u001b[K     |█▊                              | 122kB 2.8MB/s eta 0:00:01\r\u001b[K     |██                              | 133kB 2.8MB/s eta 0:00:01\r\u001b[K     |██                              | 143kB 2.8MB/s eta 0:00:01\r\u001b[K     |██▏                             | 153kB 2.8MB/s eta 0:00:01\r\u001b[K     |██▎                             | 163kB 2.8MB/s eta 0:00:01\r\u001b[K     |██▌                             | 174kB 2.8MB/s eta 0:00:01\r\u001b[K     |██▋                             | 184kB 2.8MB/s eta 0:00:01\r\u001b[K     |██▊                             | 194kB 2.8MB/s eta 0:00:01\r\u001b[K     |███                             | 204kB 2.8MB/s eta 0:00:01\r\u001b[K     |███                             | 215kB 2.8MB/s eta 0:00:01\r\u001b[K     |███▏                            | 225kB 2.8MB/s eta 0:00:01\r\u001b[K     |███▍                            | 235kB 2.8MB/s eta 0:00:01\r\u001b[K     |███▌                            | 245kB 2.8MB/s eta 0:00:01\r\u001b[K     |███▋                            | 256kB 2.8MB/s eta 0:00:01\r\u001b[K     |███▉                            | 266kB 2.8MB/s eta 0:00:01\r\u001b[K     |████                            | 276kB 2.8MB/s eta 0:00:01\r\u001b[K     |████                            | 286kB 2.8MB/s eta 0:00:01\r\u001b[K     |████▏                           | 296kB 2.8MB/s eta 0:00:01\r\u001b[K     |████▍                           | 307kB 2.8MB/s eta 0:00:01\r\u001b[K     |████▌                           | 317kB 2.8MB/s eta 0:00:01\r\u001b[K     |████▋                           | 327kB 2.8MB/s eta 0:00:01\r\u001b[K     |████▉                           | 337kB 2.8MB/s eta 0:00:01\r\u001b[K     |█████                           | 348kB 2.8MB/s eta 0:00:01\r\u001b[K     |█████                           | 358kB 2.8MB/s eta 0:00:01\r\u001b[K     |█████▎                          | 368kB 2.8MB/s eta 0:00:01\r\u001b[K     |█████▍                          | 378kB 2.8MB/s eta 0:00:01\r\u001b[K     |█████▌                          | 389kB 2.8MB/s eta 0:00:01\r\u001b[K     |█████▊                          | 399kB 2.8MB/s eta 0:00:01\r\u001b[K     |█████▉                          | 409kB 2.8MB/s eta 0:00:01\r\u001b[K     |██████                          | 419kB 2.8MB/s eta 0:00:01\r\u001b[K     |██████                          | 430kB 2.8MB/s eta 0:00:01\r\u001b[K     |██████▎                         | 440kB 2.8MB/s eta 0:00:01\r\u001b[K     |██████▍                         | 450kB 2.8MB/s eta 0:00:01\r\u001b[K     |██████▌                         | 460kB 2.8MB/s eta 0:00:01\r\u001b[K     |██████▊                         | 471kB 2.8MB/s eta 0:00:01\r\u001b[K     |██████▉                         | 481kB 2.8MB/s eta 0:00:01\r\u001b[K     |███████                         | 491kB 2.8MB/s eta 0:00:01\r\u001b[K     |███████▏                        | 501kB 2.8MB/s eta 0:00:01\r\u001b[K     |███████▎                        | 512kB 2.8MB/s eta 0:00:01\r\u001b[K     |███████▍                        | 522kB 2.8MB/s eta 0:00:01\r\u001b[K     |███████▋                        | 532kB 2.8MB/s eta 0:00:01\r\u001b[K     |███████▊                        | 542kB 2.8MB/s eta 0:00:01\r\u001b[K     |███████▉                        | 552kB 2.8MB/s eta 0:00:01\r\u001b[K     |████████                        | 563kB 2.8MB/s eta 0:00:01\r\u001b[K     |████████▏                       | 573kB 2.8MB/s eta 0:00:01\r\u001b[K     |████████▎                       | 583kB 2.8MB/s eta 0:00:01\r\u001b[K     |████████▍                       | 593kB 2.8MB/s eta 0:00:01\r\u001b[K     |████████▋                       | 604kB 2.8MB/s eta 0:00:01\r\u001b[K     |████████▊                       | 614kB 2.8MB/s eta 0:00:01\r\u001b[K     |████████▉                       | 624kB 2.8MB/s eta 0:00:01\r\u001b[K     |█████████                       | 634kB 2.8MB/s eta 0:00:01\r\u001b[K     |█████████▏                      | 645kB 2.8MB/s eta 0:00:01\r\u001b[K     |█████████▎                      | 655kB 2.8MB/s eta 0:00:01\r\u001b[K     |█████████▌                      | 665kB 2.8MB/s eta 0:00:01\r\u001b[K     |█████████▋                      | 675kB 2.8MB/s eta 0:00:01\r\u001b[K     |█████████▊                      | 686kB 2.8MB/s eta 0:00:01\r\u001b[K     |█████████▉                      | 696kB 2.8MB/s eta 0:00:01\r\u001b[K     |██████████                      | 706kB 2.8MB/s eta 0:00:01\r\u001b[K     |██████████▏                     | 716kB 2.8MB/s eta 0:00:01\r\u001b[K     |██████████▎                     | 727kB 2.8MB/s eta 0:00:01\r\u001b[K     |██████████▌                     | 737kB 2.8MB/s eta 0:00:01\r\u001b[K     |██████████▋                     | 747kB 2.8MB/s eta 0:00:01\r\u001b[K     |██████████▊                     | 757kB 2.8MB/s eta 0:00:01\r\u001b[K     |███████████                     | 768kB 2.8MB/s eta 0:00:01\r\u001b[K     |███████████                     | 778kB 2.8MB/s eta 0:00:01\r\u001b[K     |███████████▏                    | 788kB 2.8MB/s eta 0:00:01\r\u001b[K     |███████████▍                    | 798kB 2.8MB/s eta 0:00:01\r\u001b[K     |███████████▌                    | 808kB 2.8MB/s eta 0:00:01\r\u001b[K     |███████████▋                    | 819kB 2.8MB/s eta 0:00:01\r\u001b[K     |███████████▊                    | 829kB 2.8MB/s eta 0:00:01\r\u001b[K     |████████████                    | 839kB 2.8MB/s eta 0:00:01\r\u001b[K     |████████████                    | 849kB 2.8MB/s eta 0:00:01\r\u001b[K     |████████████▏                   | 860kB 2.8MB/s eta 0:00:01\r\u001b[K     |████████████▍                   | 870kB 2.8MB/s eta 0:00:01\r\u001b[K     |████████████▌                   | 880kB 2.8MB/s eta 0:00:01\r\u001b[K     |████████████▋                   | 890kB 2.8MB/s eta 0:00:01\r\u001b[K     |████████████▉                   | 901kB 2.8MB/s eta 0:00:01\r\u001b[K     |█████████████                   | 911kB 2.8MB/s eta 0:00:01\r\u001b[K     |█████████████                   | 921kB 2.8MB/s eta 0:00:01\r\u001b[K     |█████████████▎                  | 931kB 2.8MB/s eta 0:00:01\r\u001b[K     |█████████████▍                  | 942kB 2.8MB/s eta 0:00:01\r\u001b[K     |█████████████▌                  | 952kB 2.8MB/s eta 0:00:01\r\u001b[K     |█████████████▋                  | 962kB 2.8MB/s eta 0:00:01\r\u001b[K     |█████████████▉                  | 972kB 2.8MB/s eta 0:00:01\r\u001b[K     |██████████████                  | 983kB 2.8MB/s eta 0:00:01\r\u001b[K     |██████████████                  | 993kB 2.8MB/s eta 0:00:01\r\u001b[K     |██████████████▎                 | 1.0MB 2.8MB/s eta 0:00:01\r\u001b[K     |██████████████▍                 | 1.0MB 2.8MB/s eta 0:00:01\r\u001b[K     |██████████████▌                 | 1.0MB 2.8MB/s eta 0:00:01\r\u001b[K     |██████████████▊                 | 1.0MB 2.8MB/s eta 0:00:01\r\u001b[K     |██████████████▉                 | 1.0MB 2.8MB/s eta 0:00:01\r\u001b[K     |███████████████                 | 1.1MB 2.8MB/s eta 0:00:01\r\u001b[K     |███████████████▏                | 1.1MB 2.8MB/s eta 0:00:01\r\u001b[K     |███████████████▎                | 1.1MB 2.8MB/s eta 0:00:01\r\u001b[K     |███████████████▍                | 1.1MB 2.8MB/s eta 0:00:01\r\u001b[K     |███████████████▌                | 1.1MB 2.8MB/s eta 0:00:01\r\u001b[K     |███████████████▊                | 1.1MB 2.8MB/s eta 0:00:01\r\u001b[K     |███████████████▉                | 1.1MB 2.8MB/s eta 0:00:01\r\u001b[K     |████████████████                | 1.1MB 2.8MB/s eta 0:00:01\r\u001b[K     |████████████████▏               | 1.1MB 2.8MB/s eta 0:00:01\r\u001b[K     |████████████████▎               | 1.1MB 2.8MB/s eta 0:00:01\r\u001b[K     |████████████████▍               | 1.2MB 2.8MB/s eta 0:00:01\r\u001b[K     |████████████████▋               | 1.2MB 2.8MB/s eta 0:00:01\r\u001b[K     |████████████████▊               | 1.2MB 2.8MB/s eta 0:00:01\r\u001b[K     |████████████████▉               | 1.2MB 2.8MB/s eta 0:00:01\r\u001b[K     |█████████████████               | 1.2MB 2.8MB/s eta 0:00:01\r\u001b[K     |█████████████████▏              | 1.2MB 2.8MB/s eta 0:00:01\r\u001b[K     |█████████████████▎              | 1.2MB 2.8MB/s eta 0:00:01\r\u001b[K     |█████████████████▍              | 1.2MB 2.8MB/s eta 0:00:01\r\u001b[K     |█████████████████▋              | 1.2MB 2.8MB/s eta 0:00:01\r\u001b[K     |█████████████████▊              | 1.2MB 2.8MB/s eta 0:00:01\r\u001b[K     |█████████████████▉              | 1.3MB 2.8MB/s eta 0:00:01\r\u001b[K     |██████████████████              | 1.3MB 2.8MB/s eta 0:00:01\r\u001b[K     |██████████████████▏             | 1.3MB 2.8MB/s eta 0:00:01\r\u001b[K     |██████████████████▎             | 1.3MB 2.8MB/s eta 0:00:01\r\u001b[K     |██████████████████▌             | 1.3MB 2.8MB/s eta 0:00:01\r\u001b[K     |██████████████████▋             | 1.3MB 2.8MB/s eta 0:00:01\r\u001b[K     |██████████████████▊             | 1.3MB 2.8MB/s eta 0:00:01\r\u001b[K     |███████████████████             | 1.3MB 2.8MB/s eta 0:00:01\r\u001b[K     |███████████████████             | 1.3MB 2.8MB/s eta 0:00:01\r\u001b[K     |███████████████████▏            | 1.4MB 2.8MB/s eta 0:00:01\r\u001b[K     |███████████████████▎            | 1.4MB 2.8MB/s eta 0:00:01\r\u001b[K     |███████████████████▌            | 1.4MB 2.8MB/s eta 0:00:01\r\u001b[K     |███████████████████▋            | 1.4MB 2.8MB/s eta 0:00:01\r\u001b[K     |███████████████████▊            | 1.4MB 2.8MB/s eta 0:00:01\r\u001b[K     |████████████████████            | 1.4MB 2.8MB/s eta 0:00:01\r\u001b[K     |████████████████████            | 1.4MB 2.8MB/s eta 0:00:01\r\u001b[K     |████████████████████▏           | 1.4MB 2.8MB/s eta 0:00:01\r\u001b[K     |████████████████████▍           | 1.4MB 2.8MB/s eta 0:00:01\r\u001b[K     |████████████████████▌           | 1.4MB 2.8MB/s eta 0:00:01\r\u001b[K     |████████████████████▋           | 1.5MB 2.8MB/s eta 0:00:01\r\u001b[K     |████████████████████▉           | 1.5MB 2.8MB/s eta 0:00:01\r\u001b[K     |█████████████████████           | 1.5MB 2.8MB/s eta 0:00:01\r\u001b[K     |█████████████████████           | 1.5MB 2.8MB/s eta 0:00:01\r\u001b[K     |█████████████████████▏          | 1.5MB 2.8MB/s eta 0:00:01\r\u001b[K     |█████████████████████▍          | 1.5MB 2.8MB/s eta 0:00:01\r\u001b[K     |█████████████████████▌          | 1.5MB 2.8MB/s eta 0:00:01\r\u001b[K     |█████████████████████▋          | 1.5MB 2.8MB/s eta 0:00:01\r\u001b[K     |█████████████████████▉          | 1.5MB 2.8MB/s eta 0:00:01\r\u001b[K     |██████████████████████          | 1.5MB 2.8MB/s eta 0:00:01\r\u001b[K     |██████████████████████          | 1.6MB 2.8MB/s eta 0:00:01\r\u001b[K     |██████████████████████▎         | 1.6MB 2.8MB/s eta 0:00:01\r\u001b[K     |██████████████████████▍         | 1.6MB 2.8MB/s eta 0:00:01\r\u001b[K     |██████████████████████▌         | 1.6MB 2.8MB/s eta 0:00:01\r\u001b[K     |██████████████████████▊         | 1.6MB 2.8MB/s eta 0:00:01\r\u001b[K     |██████████████████████▉         | 1.6MB 2.8MB/s eta 0:00:01\r\u001b[K     |███████████████████████         | 1.6MB 2.8MB/s eta 0:00:01\r\u001b[K     |███████████████████████         | 1.6MB 2.8MB/s eta 0:00:01\r\u001b[K     |███████████████████████▎        | 1.6MB 2.8MB/s eta 0:00:01\r\u001b[K     |███████████████████████▍        | 1.6MB 2.8MB/s eta 0:00:01\r\u001b[K     |███████████████████████▌        | 1.7MB 2.8MB/s eta 0:00:01\r\u001b[K     |███████████████████████▊        | 1.7MB 2.8MB/s eta 0:00:01\r\u001b[K     |███████████████████████▉        | 1.7MB 2.8MB/s eta 0:00:01\r\u001b[K     |████████████████████████        | 1.7MB 2.8MB/s eta 0:00:01\r\u001b[K     |████████████████████████▏       | 1.7MB 2.8MB/s eta 0:00:01\r\u001b[K     |████████████████████████▎       | 1.7MB 2.8MB/s eta 0:00:01\r\u001b[K     |████████████████████████▍       | 1.7MB 2.8MB/s eta 0:00:01\r\u001b[K     |████████████████████████▋       | 1.7MB 2.8MB/s eta 0:00:01\r\u001b[K     |████████████████████████▊       | 1.7MB 2.8MB/s eta 0:00:01\r\u001b[K     |████████████████████████▉       | 1.8MB 2.8MB/s eta 0:00:01\r\u001b[K     |█████████████████████████       | 1.8MB 2.8MB/s eta 0:00:01\r\u001b[K     |█████████████████████████▏      | 1.8MB 2.8MB/s eta 0:00:01\r\u001b[K     |█████████████████████████▎      | 1.8MB 2.8MB/s eta 0:00:01\r\u001b[K     |█████████████████████████▍      | 1.8MB 2.8MB/s eta 0:00:01\r\u001b[K     |█████████████████████████▋      | 1.8MB 2.8MB/s eta 0:00:01\r\u001b[K     |█████████████████████████▊      | 1.8MB 2.8MB/s eta 0:00:01\r\u001b[K     |█████████████████████████▉      | 1.8MB 2.8MB/s eta 0:00:01\r\u001b[K     |██████████████████████████      | 1.8MB 2.8MB/s eta 0:00:01\r\u001b[K     |██████████████████████████▏     | 1.8MB 2.8MB/s eta 0:00:01\r\u001b[K     |██████████████████████████▎     | 1.9MB 2.8MB/s eta 0:00:01\r\u001b[K     |██████████████████████████▌     | 1.9MB 2.8MB/s eta 0:00:01\r\u001b[K     |██████████████████████████▋     | 1.9MB 2.8MB/s eta 0:00:01\r\u001b[K     |██████████████████████████▊     | 1.9MB 2.8MB/s eta 0:00:01\r\u001b[K     |██████████████████████████▉     | 1.9MB 2.8MB/s eta 0:00:01\r\u001b[K     |███████████████████████████     | 1.9MB 2.8MB/s eta 0:00:01\r\u001b[K     |███████████████████████████▏    | 1.9MB 2.8MB/s eta 0:00:01\r\u001b[K     |███████████████████████████▎    | 1.9MB 2.8MB/s eta 0:00:01\r\u001b[K     |███████████████████████████▌    | 1.9MB 2.8MB/s eta 0:00:01\r\u001b[K     |███████████████████████████▋    | 1.9MB 2.8MB/s eta 0:00:01\r\u001b[K     |███████████████████████████▊    | 2.0MB 2.8MB/s eta 0:00:01\r\u001b[K     |████████████████████████████    | 2.0MB 2.8MB/s eta 0:00:01\r\u001b[K     |████████████████████████████    | 2.0MB 2.8MB/s eta 0:00:01\r\u001b[K     |████████████████████████████▏   | 2.0MB 2.8MB/s eta 0:00:01\r\u001b[K     |████████████████████████████▍   | 2.0MB 2.8MB/s eta 0:00:01\r\u001b[K     |████████████████████████████▌   | 2.0MB 2.8MB/s eta 0:00:01\r\u001b[K     |████████████████████████████▋   | 2.0MB 2.8MB/s eta 0:00:01\r\u001b[K     |████████████████████████████▊   | 2.0MB 2.8MB/s eta 0:00:01\r\u001b[K     |█████████████████████████████   | 2.0MB 2.8MB/s eta 0:00:01\r\u001b[K     |█████████████████████████████   | 2.0MB 2.8MB/s eta 0:00:01\r\u001b[K     |█████████████████████████████▏  | 2.1MB 2.8MB/s eta 0:00:01\r\u001b[K     |█████████████████████████████▍  | 2.1MB 2.8MB/s eta 0:00:01\r\u001b[K     |█████████████████████████████▌  | 2.1MB 2.8MB/s eta 0:00:01\r\u001b[K     |█████████████████████████████▋  | 2.1MB 2.8MB/s eta 0:00:01\r\u001b[K     |█████████████████████████████▉  | 2.1MB 2.8MB/s eta 0:00:01\r\u001b[K     |██████████████████████████████  | 2.1MB 2.8MB/s eta 0:00:01\r\u001b[K     |██████████████████████████████  | 2.1MB 2.8MB/s eta 0:00:01\r\u001b[K     |██████████████████████████████▎ | 2.1MB 2.8MB/s eta 0:00:01\r\u001b[K     |██████████████████████████████▍ | 2.1MB 2.8MB/s eta 0:00:01\r\u001b[K     |██████████████████████████████▌ | 2.2MB 2.8MB/s eta 0:00:01\r\u001b[K     |██████████████████████████████▋ | 2.2MB 2.8MB/s eta 0:00:01\r\u001b[K     |██████████████████████████████▉ | 2.2MB 2.8MB/s eta 0:00:01\r\u001b[K     |███████████████████████████████ | 2.2MB 2.8MB/s eta 0:00:01\r\u001b[K     |███████████████████████████████ | 2.2MB 2.8MB/s eta 0:00:01\r\u001b[K     |███████████████████████████████▎| 2.2MB 2.8MB/s eta 0:00:01\r\u001b[K     |███████████████████████████████▍| 2.2MB 2.8MB/s eta 0:00:01\r\u001b[K     |███████████████████████████████▌| 2.2MB 2.8MB/s eta 0:00:01\r\u001b[K     |███████████████████████████████▊| 2.2MB 2.8MB/s eta 0:00:01\r\u001b[K     |███████████████████████████████▉| 2.2MB 2.8MB/s eta 0:00:01\r\u001b[K     |████████████████████████████████| 2.3MB 2.8MB/s eta 0:00:01\r\u001b[K     |████████████████████████████████| 2.3MB 2.8MB/s \n",
            "\u001b[?25hRequirement already satisfied: numpy in /usr/local/lib/python3.6/dist-packages (from scikit-video==1.1.11) (1.18.5)\n",
            "Requirement already satisfied: scipy in /usr/local/lib/python3.6/dist-packages (from scikit-video==1.1.11) (1.4.1)\n",
            "Requirement already satisfied: pillow in /usr/local/lib/python3.6/dist-packages (from scikit-video==1.1.11) (7.0.0)\n",
            "Installing collected packages: scikit-video\n",
            "Successfully installed scikit-video-1.1.11\n"
          ],
          "name": "stdout"
        }
      ]
    },
    {
      "cell_type": "markdown",
      "metadata": {
        "id": "gshnlHKETjEI",
        "colab_type": "text"
      },
      "source": [
        "## Загрузка и распаковка датасета KTH"
      ]
    },
    {
      "cell_type": "code",
      "metadata": {
        "id": "oUKrI6l_1CK_",
        "colab_type": "code",
        "outputId": "56344cb9-60f1-42ac-bef4-db4b3b3df3be",
        "colab": {
          "base_uri": "https://localhost:8080/",
          "height": 1000
        }
      },
      "source": [
        "if 1:\n",
        "    !wget http://www.nada.kth.se/cvap/actions/walking.zip\n",
        "    !wget http://www.nada.kth.se/cvap/actions/jogging.zip\n",
        "    !wget http://www.nada.kth.se/cvap/actions/running.zip\n",
        "    !wget http://www.nada.kth.se/cvap/actions/boxing.zip\n",
        "    !wget http://www.nada.kth.se/cvap/actions/handwaving.zip\n",
        "    !wget http://www.nada.kth.se/cvap/actions/handclapping.zip \n",
        "\n",
        "if 1:\n",
        "    !unzip walking.zip -d walking > /dev/null\n",
        "    !unzip jogging.zip -d jogging > /dev/null\n",
        "    !unzip running.zip -d running > /dev/null\n",
        "    !unzip boxing.zip -d boxing > /dev/null\n",
        "    !unzip handwaving.zip -d handwaving > /dev/null\n",
        "    !unzip handclapping.zip -d handclapping > /dev/null"
      ],
      "execution_count": 4,
      "outputs": [
        {
          "output_type": "stream",
          "text": [
            "--2020-06-11 15:57:52--  http://www.nada.kth.se/cvap/actions/walking.zip\n",
            "Resolving www.nada.kth.se (www.nada.kth.se)... 130.237.28.41, 2001:6b0:1:11c2::82ed:1c29\n",
            "Connecting to www.nada.kth.se (www.nada.kth.se)|130.237.28.41|:80... connected.\n",
            "HTTP request sent, awaiting response... 301 Moved Permanently\n",
            "Location: https://www.csc.kth.se/cvap/actions/walking.zip [following]\n",
            "--2020-06-11 15:57:53--  https://www.csc.kth.se/cvap/actions/walking.zip\n",
            "Resolving www.csc.kth.se (www.csc.kth.se)... 130.237.227.116\n",
            "Connecting to www.csc.kth.se (www.csc.kth.se)|130.237.227.116|:443... connected.\n",
            "HTTP request sent, awaiting response... 200 OK\n",
            "Length: unspecified [application/zip]\n",
            "Saving to: ‘walking.zip’\n",
            "\n",
            "walking.zip             [             <=>    ] 231.21M  3.43MB/s    in 71s     \n",
            "\n",
            "2020-06-11 15:59:07 (3.25 MB/s) - ‘walking.zip’ saved [242442411]\n",
            "\n",
            "--2020-06-11 15:59:08--  http://www.nada.kth.se/cvap/actions/jogging.zip\n",
            "Resolving www.nada.kth.se (www.nada.kth.se)... 130.237.28.41, 2001:6b0:1:11c2::82ed:1c29\n",
            "Connecting to www.nada.kth.se (www.nada.kth.se)|130.237.28.41|:80... connected.\n",
            "HTTP request sent, awaiting response... 301 Moved Permanently\n",
            "Location: https://www.csc.kth.se/cvap/actions/jogging.zip [following]\n",
            "--2020-06-11 15:59:10--  https://www.csc.kth.se/cvap/actions/jogging.zip\n",
            "Resolving www.csc.kth.se (www.csc.kth.se)... 130.237.227.116\n",
            "Connecting to www.csc.kth.se (www.csc.kth.se)|130.237.227.116|:443... connected.\n",
            "HTTP request sent, awaiting response... 200 OK\n",
            "Length: unspecified [application/zip]\n",
            "Saving to: ‘jogging.zip’\n",
            "\n",
            "jogging.zip             [  <=>               ] 161.13M  3.56MB/s    in 50s     \n",
            "\n",
            "2020-06-11 16:00:02 (3.20 MB/s) - ‘jogging.zip’ saved [168961290]\n",
            "\n",
            "--2020-06-11 16:00:04--  http://www.nada.kth.se/cvap/actions/running.zip\n",
            "Resolving www.nada.kth.se (www.nada.kth.se)... 130.237.28.41, 2001:6b0:1:11c2::82ed:1c29\n",
            "Connecting to www.nada.kth.se (www.nada.kth.se)|130.237.28.41|:80... connected.\n",
            "HTTP request sent, awaiting response... 301 Moved Permanently\n",
            "Location: https://www.csc.kth.se/cvap/actions/running.zip [following]\n",
            "--2020-06-11 16:00:05--  https://www.csc.kth.se/cvap/actions/running.zip\n",
            "Resolving www.csc.kth.se (www.csc.kth.se)... 130.237.227.116\n",
            "Connecting to www.csc.kth.se (www.csc.kth.se)|130.237.227.116|:443... connected.\n",
            "HTTP request sent, awaiting response... 200 OK\n",
            "Length: unspecified [application/zip]\n",
            "Saving to: ‘running.zip’\n",
            "\n",
            "running.zip             [  <=>               ] 142.82M  3.80MB/s    in 44s     \n",
            "\n",
            "2020-06-11 16:00:51 (3.22 MB/s) - ‘running.zip’ saved [149756643]\n",
            "\n",
            "--2020-06-11 16:00:52--  http://www.nada.kth.se/cvap/actions/boxing.zip\n",
            "Resolving www.nada.kth.se (www.nada.kth.se)... 130.237.28.41, 2001:6b0:1:11c2::82ed:1c29\n",
            "Connecting to www.nada.kth.se (www.nada.kth.se)|130.237.28.41|:80... connected.\n",
            "HTTP request sent, awaiting response... 301 Moved Permanently\n",
            "Location: https://www.csc.kth.se/cvap/actions/boxing.zip [following]\n",
            "--2020-06-11 16:00:53--  https://www.csc.kth.se/cvap/actions/boxing.zip\n",
            "Resolving www.csc.kth.se (www.csc.kth.se)... 130.237.227.116\n",
            "Connecting to www.csc.kth.se (www.csc.kth.se)|130.237.227.116|:443... connected.\n",
            "HTTP request sent, awaiting response... 200 OK\n",
            "Length: unspecified [application/zip]\n",
            "Saving to: ‘boxing.zip’\n",
            "\n",
            "boxing.zip              [               <=>  ] 185.49M  3.60MB/s    in 57s     \n",
            "\n",
            "2020-06-11 16:01:52 (3.27 MB/s) - ‘boxing.zip’ saved [194498294]\n",
            "\n",
            "--2020-06-11 16:01:53--  http://www.nada.kth.se/cvap/actions/handwaving.zip\n",
            "Resolving www.nada.kth.se (www.nada.kth.se)... 130.237.28.41, 2001:6b0:1:11c2::82ed:1c29\n",
            "Connecting to www.nada.kth.se (www.nada.kth.se)|130.237.28.41|:80... connected.\n",
            "HTTP request sent, awaiting response... 301 Moved Permanently\n",
            "Location: https://www.csc.kth.se/cvap/actions/handwaving.zip [following]\n",
            "--2020-06-11 16:01:55--  https://www.csc.kth.se/cvap/actions/handwaving.zip\n",
            "Resolving www.csc.kth.se (www.csc.kth.se)... 130.237.227.116\n",
            "Connecting to www.csc.kth.se (www.csc.kth.se)|130.237.227.116|:443... connected.\n",
            "HTTP request sent, awaiting response... 200 OK\n",
            "Length: unspecified [application/zip]\n",
            "Saving to: ‘handwaving.zip’\n",
            "\n",
            "handwaving.zip          [           <=>      ] 208.84M  3.52MB/s    in 64s     \n",
            "\n",
            "2020-06-11 16:03:00 (3.28 MB/s) - ‘handwaving.zip’ saved [218981954]\n",
            "\n",
            "--2020-06-11 16:03:02--  http://www.nada.kth.se/cvap/actions/handclapping.zip\n",
            "Resolving www.nada.kth.se (www.nada.kth.se)... 130.237.28.41, 2001:6b0:1:11c2::82ed:1c29\n",
            "Connecting to www.nada.kth.se (www.nada.kth.se)|130.237.28.41|:80... connected.\n",
            "HTTP request sent, awaiting response... 301 Moved Permanently\n",
            "Location: https://www.csc.kth.se/cvap/actions/handclapping.zip [following]\n",
            "--2020-06-11 16:03:03--  https://www.csc.kth.se/cvap/actions/handclapping.zip\n",
            "Resolving www.csc.kth.se (www.csc.kth.se)... 130.237.227.116\n",
            "Connecting to www.csc.kth.se (www.csc.kth.se)|130.237.227.116|:443... connected.\n",
            "HTTP request sent, awaiting response... 200 OK\n",
            "Length: unspecified [application/zip]\n",
            "Saving to: ‘handclapping.zip’\n",
            "\n",
            "handclapping.zip        [      <=>           ] 168.71M  3.65MB/s    in 52s     \n",
            "\n",
            "2020-06-11 16:03:56 (3.25 MB/s) - ‘handclapping.zip’ saved [176901831]\n",
            "\n"
          ],
          "name": "stdout"
        }
      ]
    },
    {
      "cell_type": "code",
      "metadata": {
        "id": "vks_67SdJrHk",
        "colab_type": "code",
        "colab": {}
      },
      "source": [
        "!rm *.zip"
      ],
      "execution_count": 0,
      "outputs": []
    },
    {
      "cell_type": "markdown",
      "metadata": {
        "id": "z9xxQH9LTsll",
        "colab_type": "text"
      },
      "source": [
        "## Подготовка датасета для классификации"
      ]
    },
    {
      "cell_type": "code",
      "metadata": {
        "id": "xXx10w4T7JcT",
        "colab_type": "code",
        "outputId": "61e82fce-c2bb-4d90-ef5d-a2e7e3538d4a",
        "colab": {
          "base_uri": "https://localhost:8080/",
          "height": 119
        }
      },
      "source": [
        "classes = [\n",
        "    'walking',\n",
        "    'jogging',\n",
        "    'running',\n",
        "    'boxing',\n",
        "    'handwaving',\n",
        "    'handclapping',\n",
        "]\n",
        "\n",
        "dataset = []\n",
        "data_root = './'\n",
        "for cls in classes:\n",
        "    print('Processing class: {}'.format(cls))\n",
        "    for fpath in glob.glob(os.path.join(data_root, cls, '*.avi')):\n",
        "        cls_idx = classes.index(cls)\n",
        "        dataset.append((fpath, cls_idx))"
      ],
      "execution_count": 6,
      "outputs": [
        {
          "output_type": "stream",
          "text": [
            "Processing class: walking\n",
            "Processing class: jogging\n",
            "Processing class: running\n",
            "Processing class: boxing\n",
            "Processing class: handwaving\n",
            "Processing class: handclapping\n"
          ],
          "name": "stdout"
        }
      ]
    },
    {
      "cell_type": "code",
      "metadata": {
        "id": "9rTfZbJCHWIq",
        "colab_type": "code",
        "outputId": "af591f63-90a8-4d85-a530-39086fd02736",
        "colab": {
          "base_uri": "https://localhost:8080/",
          "height": 34
        }
      },
      "source": [
        "SUBSET_LEN = 200\n",
        "random.shuffle(dataset)\n",
        "dataset = dataset[:SUBSET_LEN]\n",
        "\n",
        "print('Dataset samples (subset):', len(dataset))"
      ],
      "execution_count": 7,
      "outputs": [
        {
          "output_type": "stream",
          "text": [
            "Dataset samples (subset): 200\n"
          ],
          "name": "stdout"
        }
      ]
    },
    {
      "cell_type": "markdown",
      "metadata": {
        "id": "DPjO49AeIsOV",
        "colab_type": "text"
      },
      "source": [
        "посмотрим на размеры наших видеофайлов"
      ]
    },
    {
      "cell_type": "code",
      "metadata": {
        "id": "hffCTm0lHU8k",
        "colab_type": "code",
        "outputId": "a9e9bbb0-e0af-4519-9e5e-ebcab1201bf7",
        "colab": {
          "base_uri": "https://localhost:8080/",
          "height": 51
        }
      },
      "source": [
        "%%time\n",
        "shapes = []\n",
        "for i in range(len(dataset)):\n",
        "    videodata = skvideo.io.vread(dataset[i][0])\n",
        "    shapes.append(videodata.shape)"
      ],
      "execution_count": 8,
      "outputs": [
        {
          "output_type": "stream",
          "text": [
            "CPU times: user 3.14 s, sys: 4.31 s, total: 7.45 s\n",
            "Wall time: 36 s\n"
          ],
          "name": "stdout"
        }
      ]
    },
    {
      "cell_type": "code",
      "metadata": {
        "id": "InNEA97lIJOk",
        "colab_type": "code",
        "outputId": "4570f804-4716-47f7-83f8-3c246b678ae4",
        "colab": {
          "base_uri": "https://localhost:8080/",
          "height": 68
        }
      },
      "source": [
        "print('Всего файлов {}\\nМинимальное количество кадров {}\\nМаксимальное количетво кадров {}'.format(len(shapes),sorted(shapes)[0][0], sorted(shapes)[-1][0]))"
      ],
      "execution_count": 9,
      "outputs": [
        {
          "output_type": "stream",
          "text": [
            "Всего файлов 200\n",
            "Минимальное количество кадров 265\n",
            "Максимальное количетво кадров 1120\n"
          ],
          "name": "stdout"
        }
      ]
    },
    {
      "cell_type": "markdown",
      "metadata": {
        "id": "ic0CKdfNJ85N",
        "colab_type": "text"
      },
      "source": [
        "как мы видим - у нас разное количество кадров в роликах, есть совсем маленькие, есть совсем большие"
      ]
    },
    {
      "cell_type": "markdown",
      "metadata": {
        "id": "pdzyV74nNuUz",
        "colab_type": "text"
      },
      "source": [
        "итак, что мы сделаем: мы возьмем ролики и повторим каждый из них до максимального количества кадров"
      ]
    },
    {
      "cell_type": "code",
      "metadata": {
        "id": "UqxfeOQ8DcqJ",
        "colab_type": "code",
        "colab": {}
      },
      "source": [
        "# MAX_FRAMES = sorted(shapes)[-1][0]\n",
        "MAX_FRAMES = 600"
      ],
      "execution_count": 0,
      "outputs": []
    },
    {
      "cell_type": "markdown",
      "metadata": {
        "id": "Aj5EzDKzD1rC",
        "colab_type": "text"
      },
      "source": [
        "Напишем функцию, которая будет повторять ролик сам в себя до необходимого нам количества раз"
      ]
    },
    {
      "cell_type": "code",
      "metadata": {
        "id": "qslHQL1FEBWo",
        "colab_type": "code",
        "colab": {}
      },
      "source": [
        "def reshape_(np_video):\n",
        "  tmp = np_video.copy()\n",
        "  # если количество кадров в видео меньше максимального\n",
        "  if np_video.shape[0] < MAX_FRAMES:\n",
        "    # то определяем сколко раз надо повторить операцию vstack\n",
        "    num_iter = round(MAX_FRAMES / np_video.shape[0]) + 1\n",
        "    # создаем временный файл, в котором будем хранить повторы\n",
        "    tmp = np_video.copy()\n",
        "    # стакаем необходимое количество раз\n",
        "    for iterations in range(num_iter):\n",
        "      tmp = np.vstack((tmp, np_video))\n",
        "      if tmp.shape[0] > MAX_FRAMES:\n",
        "        break\n",
        "    # так как мы повторяли ролик сам в себя несколько раз, то его длина может быть больше чем необходимая\n",
        "    # поэтому возьмем только необходимое нам количество кадров\n",
        "    tmp = tmp[:MAX_FRAMES, ...]\n",
        "  return tmp"
      ],
      "execution_count": 0,
      "outputs": []
    },
    {
      "cell_type": "markdown",
      "metadata": {
        "id": "zRc7nqSyEyRd",
        "colab_type": "text"
      },
      "source": [
        "Теперь преобразуем каждый ролик до нужного нам размера и запишем его"
      ]
    },
    {
      "cell_type": "code",
      "metadata": {
        "id": "_0cJmLYMEEy1",
        "colab_type": "code",
        "outputId": "5ddfa3e4-4266-42f9-be29-013911ffb525",
        "colab": {
          "base_uri": "https://localhost:8080/",
          "height": 66,
          "referenced_widgets": [
            "d7512de7e5d04b219648492768de4fba",
            "b69747fe79344aeb86d8b99acc0c1c79",
            "90999657de9441d792740d60a2417468",
            "baba36ad7a4f4d829713853b7d1f6a2e",
            "80c7500cfedb4fd9b1f22fef3cce1c6a",
            "c8b26419b71443e69baaf075002307e1",
            "f205c5bd0d1747288996ca46c1a21026",
            "e9779be59289433bb8743a4f104868c2"
          ]
        }
      },
      "source": [
        "if 1:\n",
        "  for data in tqdm(dataset):\n",
        "    path = data[0][:-3]\n",
        "    np_video = skvideo.io.vread(data[0])\n",
        "    new_video = reshape_(np_video)\n",
        "    skvideo.io.vwrite(path + \"mp4\", new_video)"
      ],
      "execution_count": 12,
      "outputs": [
        {
          "output_type": "display_data",
          "data": {
            "application/vnd.jupyter.widget-view+json": {
              "model_id": "d7512de7e5d04b219648492768de4fba",
              "version_minor": 0,
              "version_major": 2
            },
            "text/plain": [
              "HBox(children=(FloatProgress(value=0.0, max=200.0), HTML(value='')))"
            ]
          },
          "metadata": {
            "tags": []
          }
        },
        {
          "output_type": "stream",
          "text": [
            "\n"
          ],
          "name": "stdout"
        }
      ]
    },
    {
      "cell_type": "markdown",
      "metadata": {
        "id": "Uzb5NVfiHCIZ",
        "colab_type": "text"
      },
      "source": [
        "Теперь сделаем новый датасет"
      ]
    },
    {
      "cell_type": "code",
      "metadata": {
        "id": "M9ZJvnpiHFhV",
        "colab_type": "code",
        "outputId": "d1cca609-d2ab-44a0-b489-7b2bb3279725",
        "colab": {
          "base_uri": "https://localhost:8080/",
          "height": 119
        }
      },
      "source": [
        "dataset = []\n",
        "data_root = './'\n",
        "for cls in classes:\n",
        "    print('Processing class: {}'.format(cls))\n",
        "    for fpath in glob.glob(os.path.join(data_root, cls, '*.mp4')):\n",
        "        cls_idx = classes.index(cls)\n",
        "        dataset.append((fpath, cls_idx))"
      ],
      "execution_count": 13,
      "outputs": [
        {
          "output_type": "stream",
          "text": [
            "Processing class: walking\n",
            "Processing class: jogging\n",
            "Processing class: running\n",
            "Processing class: boxing\n",
            "Processing class: handwaving\n",
            "Processing class: handclapping\n"
          ],
          "name": "stdout"
        }
      ]
    },
    {
      "cell_type": "code",
      "metadata": {
        "id": "qDv07lZhDctH",
        "colab_type": "code",
        "outputId": "2bf814d6-5b3c-416a-929c-5b580375fb98",
        "colab": {
          "base_uri": "https://localhost:8080/",
          "height": 51
        }
      },
      "source": [
        "%%time\n",
        "shapes = []\n",
        "for i in range(len(dataset)):\n",
        "    videodata = skvideo.io.vread(dataset[i][0])\n",
        "    shapes.append(videodata.shape)"
      ],
      "execution_count": 14,
      "outputs": [
        {
          "output_type": "stream",
          "text": [
            "CPU times: user 4.4 s, sys: 6.63 s, total: 11 s\n",
            "Wall time: 52 s\n"
          ],
          "name": "stdout"
        }
      ]
    },
    {
      "cell_type": "code",
      "metadata": {
        "id": "nvJFa86IKeqd",
        "colab_type": "code",
        "outputId": "b598a035-de1e-4096-b656-919792fa6660",
        "colab": {
          "base_uri": "https://localhost:8080/",
          "height": 68
        }
      },
      "source": [
        "print('Всего файлов {}\\nМинимальное количество кадров {}\\nМаксимальное количетво кадров {}'.format(len(shapes),sorted(shapes)[0][0], sorted(shapes)[-1][0]))"
      ],
      "execution_count": 15,
      "outputs": [
        {
          "output_type": "stream",
          "text": [
            "Всего файлов 200\n",
            "Минимальное количество кадров 600\n",
            "Максимальное количетво кадров 1120\n"
          ],
          "name": "stdout"
        }
      ]
    },
    {
      "cell_type": "markdown",
      "metadata": {
        "id": "H6iKJcJjKqoI",
        "colab_type": "text"
      },
      "source": [
        "Ну вот, чего мы собственно и добивались"
      ]
    },
    {
      "cell_type": "markdown",
      "metadata": {
        "id": "xKecX592UCxv",
        "colab_type": "text"
      },
      "source": [
        "## Визуализация кадра из видео"
      ]
    },
    {
      "cell_type": "code",
      "metadata": {
        "id": "SDRvDuY5VEKT",
        "colab_type": "code",
        "outputId": "70a15710-acb8-4f13-d318-d396ae858514",
        "colab": {
          "base_uri": "https://localhost:8080/",
          "height": 285
        }
      },
      "source": [
        "videodata = skvideo.io.vread(dataset[0][0])\n",
        "videodata = videodata.astype(np.float32) / 255.\n",
        "print('videodata shape:', videodata.shape)\n",
        "plt.imshow(videodata[50, ...]);"
      ],
      "execution_count": 16,
      "outputs": [
        {
          "output_type": "stream",
          "text": [
            "videodata shape: (725, 120, 160, 3)\n"
          ],
          "name": "stdout"
        },
        {
          "output_type": "display_data",
          "data": {
            "image/png": "[encoded data removed]",
            "text/plain": [
              "<Figure size 432x288 with 1 Axes>"
            ]
          },
          "metadata": {
            "tags": [],
            "needs_background": "light"
          }
        }
      ]
    },
    {
      "cell_type": "markdown",
      "metadata": {
        "id": "ZvDqIgDKUHfj",
        "colab_type": "text"
      },
      "source": [
        "## Визуализация \"движения\""
      ]
    },
    {
      "cell_type": "code",
      "metadata": {
        "id": "n3y0fPuExC_q",
        "colab_type": "code",
        "outputId": "b5590a98-8a8e-4d59-c5e3-91b7eb913e58",
        "colab": {
          "base_uri": "https://localhost:8080/",
          "height": 302
        }
      },
      "source": [
        "motion = np.mean(videodata[1:, ...] - videodata[:-1, ...], axis=3, keepdims=True)\n",
        "print('motion shape:', motion.shape)\n",
        "plt.imshow(motion[50, ..., 0])"
      ],
      "execution_count": 17,
      "outputs": [
        {
          "output_type": "stream",
          "text": [
            "motion shape: (724, 120, 160, 1)\n"
          ],
          "name": "stdout"
        },
        {
          "output_type": "execute_result",
          "data": {
            "text/plain": [
              "<matplotlib.image.AxesImage at 0x7f7936d6ad68>"
            ]
          },
          "metadata": {
            "tags": []
          },
          "execution_count": 17
        },
        {
          "output_type": "display_data",
          "data": {
            "image/png": "[encoded data removed]",
            "text/plain": [
              "<Figure size 432x288 with 1 Axes>"
            ]
          },
          "metadata": {
            "tags": [],
            "needs_background": "light"
          }
        }
      ]
    },
    {
      "cell_type": "markdown",
      "metadata": {
        "id": "zFFlcSY83rHa",
        "colab_type": "text"
      },
      "source": [
        "# Создание датасета"
      ]
    },
    {
      "cell_type": "code",
      "metadata": {
        "id": "g-2vK7h4qDdt",
        "colab_type": "code",
        "outputId": "7b930250-692d-47bd-8654-d18a89dffe55",
        "colab": {
          "base_uri": "https://localhost:8080/",
          "height": 119
        }
      },
      "source": [
        "paths_ = []\n",
        "labels_ = []\n",
        "\n",
        "data_root = './'\n",
        "for cls in classes:\n",
        "    print('Processing class: {}'.format(cls))\n",
        "    for fpath in glob.glob(os.path.join(data_root, cls, '*.mp4')):\n",
        "        cls_idx = classes.index(cls)\n",
        "        paths_.append(fpath)\n",
        "        labels_.append(cls_idx)"
      ],
      "execution_count": 18,
      "outputs": [
        {
          "output_type": "stream",
          "text": [
            "Processing class: walking\n",
            "Processing class: jogging\n",
            "Processing class: running\n",
            "Processing class: boxing\n",
            "Processing class: handwaving\n",
            "Processing class: handclapping\n"
          ],
          "name": "stdout"
        }
      ]
    },
    {
      "cell_type": "markdown",
      "metadata": {
        "id": "9AaS714WmajB",
        "colab_type": "text"
      },
      "source": [
        "Создадим функцию, которая бует считывать в датасет видеофайлы"
      ]
    },
    {
      "cell_type": "code",
      "metadata": {
        "id": "4eOXV8PWmZzp",
        "colab_type": "code",
        "colab": {}
      },
      "source": [
        "def read_(fpath):\n",
        "  video_to_np = skvideo.io.vread(fpath.numpy().decode())\n",
        "  video_to_np = tf.cast(video_to_np, tf.float32) / 255\n",
        "  return video_to_np"
      ],
      "execution_count": 0,
      "outputs": []
    },
    {
      "cell_type": "code",
      "metadata": {
        "id": "wW2erw7Prw7Y",
        "colab_type": "code",
        "colab": {}
      },
      "source": [
        "def tf_item_to_data(path, label):\n",
        "    videodata = tf.py_function(read_, [path], [tf.float32])\n",
        "    return videodata, label"
      ],
      "execution_count": 0,
      "outputs": []
    },
    {
      "cell_type": "code",
      "metadata": {
        "id": "yCSsJL8Np1j4",
        "colab_type": "code",
        "colab": {}
      },
      "source": [
        "import random\n",
        "\n",
        "tmp_list = list(zip(paths_, labels_))\n",
        "random.shuffle(tmp_list)\n",
        "\n",
        "paths_, labels_ = zip(*tmp_list)\n",
        "\n",
        "train_len = int(len(paths_) * 0.9)\n",
        "\n",
        "paths_train = list(paths_[:train_len])\n",
        "labels_train = list(labels_[:train_len])\n",
        "\n",
        "paths_test = list(paths_[train_len:])\n",
        "labels_test = list(labels_[train_len:])"
      ],
      "execution_count": 0,
      "outputs": []
    },
    {
      "cell_type": "code",
      "metadata": {
        "id": "XJewEXlO3zfx",
        "colab_type": "code",
        "colab": {}
      },
      "source": [
        "BATCH_SIZE = 1\n",
        "NUM_EPOCHS = 10"
      ],
      "execution_count": 0,
      "outputs": []
    },
    {
      "cell_type": "code",
      "metadata": {
        "id": "Ieq8X4n1pH8B",
        "colab_type": "code",
        "colab": {}
      },
      "source": [
        "train_ds = tf.data.Dataset.from_tensor_slices((paths_train, labels_train))"
      ],
      "execution_count": 0,
      "outputs": []
    },
    {
      "cell_type": "code",
      "metadata": {
        "id": "JWpjrFoTp1-x",
        "colab_type": "code",
        "colab": {}
      },
      "source": [
        "test_ds = tf.data.Dataset.from_tensor_slices((paths_test, labels_test))"
      ],
      "execution_count": 0,
      "outputs": []
    },
    {
      "cell_type": "code",
      "metadata": {
        "id": "QYcKR-BI35Lx",
        "colab_type": "code",
        "outputId": "594518db-e59c-4a42-8339-35e2356b767f",
        "colab": {
          "base_uri": "https://localhost:8080/",
          "height": 51
        }
      },
      "source": [
        "%%time\n",
        "train_ds = train_ds.map(tf_item_to_data)\n",
        "train_ds = train_ds.shuffle(buffer_size=1000)\n",
        "train_ds = train_ds.repeat(NUM_EPOCHS)\n",
        "# train_ds = train_ds.batch(BATCH_SIZE)"
      ],
      "execution_count": 25,
      "outputs": [
        {
          "output_type": "stream",
          "text": [
            "CPU times: user 57.5 ms, sys: 6.57 ms, total: 64.1 ms\n",
            "Wall time: 85 ms\n"
          ],
          "name": "stdout"
        }
      ]
    },
    {
      "cell_type": "code",
      "metadata": {
        "id": "6QRIcsLInm0i",
        "colab_type": "code",
        "outputId": "75e59728-a0c7-43ca-bb05-0764aa0c8369",
        "colab": {
          "base_uri": "https://localhost:8080/",
          "height": 51
        }
      },
      "source": [
        "%%time\n",
        "test_ds = test_ds.map(tf_item_to_data)\n",
        "test_ds = test_ds.shuffle(buffer_size=1000)\n",
        "# test_ds = test_ds.batch(BATCH_SIZE)"
      ],
      "execution_count": 26,
      "outputs": [
        {
          "output_type": "stream",
          "text": [
            "CPU times: user 7.82 ms, sys: 94 µs, total: 7.91 ms\n",
            "Wall time: 7.21 ms\n"
          ],
          "name": "stdout"
        }
      ]
    },
    {
      "cell_type": "markdown",
      "metadata": {
        "id": "0CgVQgCttHSp",
        "colab_type": "text"
      },
      "source": [
        "# Создание модели"
      ]
    },
    {
      "cell_type": "code",
      "metadata": {
        "id": "htlKcO6qJSlT",
        "colab_type": "code",
        "colab": {}
      },
      "source": [
        "model = tf.keras.Sequential([\n",
        "    tf.keras.layers.Conv3D(32, (5, 5, 5), (1, 2, 2), padding='same', activation='relu'),\n",
        "    tf.keras.layers.MaxPool3D((1, 2, 2), padding='same'),\n",
        "    tf.keras.layers.Conv3D(64, (5, 5, 5), (1, 2, 2), padding='same', activation='relu'),\n",
        "    tf.keras.layers.MaxPool3D((1, 2, 2), padding='same'),\n",
        "    tf.keras.layers.Conv3D(64, (3, 3, 3), (1, 2, 2), padding='same', activation='relu'),\n",
        "    tf.keras.layers.MaxPool3D((1, 2, 2), padding='same'),\n",
        "    tf.keras.layers.Conv3D(64, (3, 3, 3), (1, 1, 1), padding='same', activation=None),\n",
        "    tf.keras.layers.GlobalAveragePooling3D(),\n",
        "    tf.keras.layers.Dense(64, activation='relu'),\n",
        "    tf.keras.layers.Dense(6, activation=None),\n",
        "])"
      ],
      "execution_count": 0,
      "outputs": []
    },
    {
      "cell_type": "code",
      "metadata": {
        "id": "ZirCuRifJSoq",
        "colab_type": "code",
        "colab": {
          "base_uri": "https://localhost:8080/",
          "height": 51
        },
        "outputId": "168f5454-f309-4e4e-a72e-0f1bee204362"
      },
      "source": [
        "inp = motion[None, ...]\n",
        "out = model(inp)\n",
        "\n",
        "print('Input shape:', inp.shape)\n",
        "print('Output shape:', out.shape)"
      ],
      "execution_count": 28,
      "outputs": [
        {
          "output_type": "stream",
          "text": [
            "Input shape: (1, 724, 120, 160, 1)\n",
            "Output shape: (1, 6)\n"
          ],
          "name": "stdout"
        }
      ]
    },
    {
      "cell_type": "code",
      "metadata": {
        "id": "UFnqcoJoJA6G",
        "colab_type": "code",
        "colab": {}
      },
      "source": [
        "LEARNING_RATE = 0.001"
      ],
      "execution_count": 0,
      "outputs": []
    },
    {
      "cell_type": "code",
      "metadata": {
        "id": "sBiohQWPJBFj",
        "colab_type": "code",
        "colab": {}
      },
      "source": [
        "model.compile(\n",
        "    loss=tf.keras.losses.SparseCategoricalCrossentropy(from_logits=True), \n",
        "    optimizer=tf.keras.optimizers.Adam(LEARNING_RATE))\n",
        "\n",
        "writer = tf.summary.create_file_writer('logs/exp1')"
      ],
      "execution_count": 0,
      "outputs": []
    },
    {
      "cell_type": "code",
      "metadata": {
        "id": "y6YzqPbAJBIt",
        "colab_type": "code",
        "colab": {
          "base_uri": "https://localhost:8080/",
          "height": 1000
        },
        "outputId": "5ae4c9fd-d09e-4199-e17e-72e4d2442ae3"
      },
      "source": [
        "%%time\n",
        "global_step = 0\n",
        "for ep in range(NUM_EPOCHS):\n",
        "    for iter, (fpath, label) in enumerate(dataset):\n",
        "        videodata = skvideo.io.vread(fpath)\n",
        "        videodata = videodata.astype(np.float32) / 255.\n",
        "        motion = np.mean(videodata[1:, ...] - videodata[:-1, ...], axis=3, keepdims=True)\n",
        "        x = motion[None, ...]\n",
        "        y = np.array(label)[None, ...]\n",
        "\n",
        "        loss_value = model.train_on_batch(x, y)\n",
        "\n",
        "        if iter % 10 == 0:\n",
        "            print(f'[{ep}/{NUM_EPOCHS}][{iter}/{len(dataset)}] Loss = {loss_value}')\n",
        "\n",
        "            with writer.as_default():\n",
        "                tf.summary.scalar('loss', loss_value, global_step)\n",
        "\n",
        "        global_step += 1"
      ],
      "execution_count": 31,
      "outputs": [
        {
          "output_type": "stream",
          "text": [
            "[0/10][0/200] Loss = 1.7937273979187012\n",
            "WARNING:tensorflow:5 out of the last 5 calls to <function Model.make_train_function.<locals>.train_function at 0x7f79204520d0> triggered tf.function retracing. Tracing is expensive and the excessive number of tracings is likely due to passing python objects instead of tensors. Also, tf.function has experimental_relax_shapes=True option that relaxes argument shapes that can avoid unnecessary retracing. Please refer to https://www.tensorflow.org/tutorials/customization/performance#python_or_tensor_args and https://www.tensorflow.org/api_docs/python/tf/function for more details.\n",
            "WARNING:tensorflow:6 out of the last 10 calls to <function Model.make_train_function.<locals>.train_function at 0x7f79204520d0> triggered tf.function retracing. Tracing is expensive and the excessive number of tracings is likely due to passing python objects instead of tensors. Also, tf.function has experimental_relax_shapes=True option that relaxes argument shapes that can avoid unnecessary retracing. Please refer to https://www.tensorflow.org/tutorials/customization/performance#python_or_tensor_args and https://www.tensorflow.org/api_docs/python/tf/function for more details.\n",
            "WARNING:tensorflow:7 out of the last 11 calls to <function Model.make_train_function.<locals>.train_function at 0x7f79204520d0> triggered tf.function retracing. Tracing is expensive and the excessive number of tracings is likely due to passing python objects instead of tensors. Also, tf.function has experimental_relax_shapes=True option that relaxes argument shapes that can avoid unnecessary retracing. Please refer to https://www.tensorflow.org/tutorials/customization/performance#python_or_tensor_args and https://www.tensorflow.org/api_docs/python/tf/function for more details.\n",
            "[0/10][10/200] Loss = 0.0\n",
            "WARNING:tensorflow:6 out of the last 11 calls to <function Model.make_train_function.<locals>.train_function at 0x7f79204520d0> triggered tf.function retracing. Tracing is expensive and the excessive number of tracings is likely due to passing python objects instead of tensors. Also, tf.function has experimental_relax_shapes=True option that relaxes argument shapes that can avoid unnecessary retracing. Please refer to https://www.tensorflow.org/tutorials/customization/performance#python_or_tensor_args and https://www.tensorflow.org/api_docs/python/tf/function for more details.\n",
            "WARNING:tensorflow:6 out of the last 11 calls to <function Model.make_train_function.<locals>.train_function at 0x7f79204520d0> triggered tf.function retracing. Tracing is expensive and the excessive number of tracings is likely due to passing python objects instead of tensors. Also, tf.function has experimental_relax_shapes=True option that relaxes argument shapes that can avoid unnecessary retracing. Please refer to https://www.tensorflow.org/tutorials/customization/performance#python_or_tensor_args and https://www.tensorflow.org/api_docs/python/tf/function for more details.\n",
            "WARNING:tensorflow:6 out of the last 11 calls to <function Model.make_train_function.<locals>.train_function at 0x7f79204520d0> triggered tf.function retracing. Tracing is expensive and the excessive number of tracings is likely due to passing python objects instead of tensors. Also, tf.function has experimental_relax_shapes=True option that relaxes argument shapes that can avoid unnecessary retracing. Please refer to https://www.tensorflow.org/tutorials/customization/performance#python_or_tensor_args and https://www.tensorflow.org/api_docs/python/tf/function for more details.\n",
            "WARNING:tensorflow:7 out of the last 12 calls to <function Model.make_train_function.<locals>.train_function at 0x7f79204520d0> triggered tf.function retracing. Tracing is expensive and the excessive number of tracings is likely due to passing python objects instead of tensors. Also, tf.function has experimental_relax_shapes=True option that relaxes argument shapes that can avoid unnecessary retracing. Please refer to https://www.tensorflow.org/tutorials/customization/performance#python_or_tensor_args and https://www.tensorflow.org/api_docs/python/tf/function for more details.\n",
            "WARNING:tensorflow:8 out of the last 13 calls to <function Model.make_train_function.<locals>.train_function at 0x7f79204520d0> triggered tf.function retracing. Tracing is expensive and the excessive number of tracings is likely due to passing python objects instead of tensors. Also, tf.function has experimental_relax_shapes=True option that relaxes argument shapes that can avoid unnecessary retracing. Please refer to https://www.tensorflow.org/tutorials/customization/performance#python_or_tensor_args and https://www.tensorflow.org/api_docs/python/tf/function for more details.\n",
            "WARNING:tensorflow:9 out of the last 14 calls to <function Model.make_train_function.<locals>.train_function at 0x7f79204520d0> triggered tf.function retracing. Tracing is expensive and the excessive number of tracings is likely due to passing python objects instead of tensors. Also, tf.function has experimental_relax_shapes=True option that relaxes argument shapes that can avoid unnecessary retracing. Please refer to https://www.tensorflow.org/tutorials/customization/performance#python_or_tensor_args and https://www.tensorflow.org/api_docs/python/tf/function for more details.\n",
            "WARNING:tensorflow:8 out of the last 11 calls to <function Model.make_train_function.<locals>.train_function at 0x7f79204520d0> triggered tf.function retracing. Tracing is expensive and the excessive number of tracings is likely due to passing python objects instead of tensors. Also, tf.function has experimental_relax_shapes=True option that relaxes argument shapes that can avoid unnecessary retracing. Please refer to https://www.tensorflow.org/tutorials/customization/performance#python_or_tensor_args and https://www.tensorflow.org/api_docs/python/tf/function for more details.\n",
            "[0/10][20/200] Loss = 0.0\n",
            "WARNING:tensorflow:8 out of the last 11 calls to <function Model.make_train_function.<locals>.train_function at 0x7f79204520d0> triggered tf.function retracing. Tracing is expensive and the excessive number of tracings is likely due to passing python objects instead of tensors. Also, tf.function has experimental_relax_shapes=True option that relaxes argument shapes that can avoid unnecessary retracing. Please refer to https://www.tensorflow.org/tutorials/customization/performance#python_or_tensor_args and https://www.tensorflow.org/api_docs/python/tf/function for more details.\n",
            "WARNING:tensorflow:8 out of the last 11 calls to <function Model.make_train_function.<locals>.train_function at 0x7f79204520d0> triggered tf.function retracing. Tracing is expensive and the excessive number of tracings is likely due to passing python objects instead of tensors. Also, tf.function has experimental_relax_shapes=True option that relaxes argument shapes that can avoid unnecessary retracing. Please refer to https://www.tensorflow.org/tutorials/customization/performance#python_or_tensor_args and https://www.tensorflow.org/api_docs/python/tf/function for more details.\n",
            "WARNING:tensorflow:7 out of the last 11 calls to <function Model.make_train_function.<locals>.train_function at 0x7f79204520d0> triggered tf.function retracing. Tracing is expensive and the excessive number of tracings is likely due to passing python objects instead of tensors. Also, tf.function has experimental_relax_shapes=True option that relaxes argument shapes that can avoid unnecessary retracing. Please refer to https://www.tensorflow.org/tutorials/customization/performance#python_or_tensor_args and https://www.tensorflow.org/api_docs/python/tf/function for more details.\n",
            "WARNING:tensorflow:7 out of the last 11 calls to <function Model.make_train_function.<locals>.train_function at 0x7f79204520d0> triggered tf.function retracing. Tracing is expensive and the excessive number of tracings is likely due to passing python objects instead of tensors. Also, tf.function has experimental_relax_shapes=True option that relaxes argument shapes that can avoid unnecessary retracing. Please refer to https://www.tensorflow.org/tutorials/customization/performance#python_or_tensor_args and https://www.tensorflow.org/api_docs/python/tf/function for more details.\n",
            "WARNING:tensorflow:7 out of the last 11 calls to <function Model.make_train_function.<locals>.train_function at 0x7f79204520d0> triggered tf.function retracing. Tracing is expensive and the excessive number of tracings is likely due to passing python objects instead of tensors. Also, tf.function has experimental_relax_shapes=True option that relaxes argument shapes that can avoid unnecessary retracing. Please refer to https://www.tensorflow.org/tutorials/customization/performance#python_or_tensor_args and https://www.tensorflow.org/api_docs/python/tf/function for more details.\n",
            "WARNING:tensorflow:7 out of the last 11 calls to <function Model.make_train_function.<locals>.train_function at 0x7f79204520d0> triggered tf.function retracing. Tracing is expensive and the excessive number of tracings is likely due to passing python objects instead of tensors. Also, tf.function has experimental_relax_shapes=True option that relaxes argument shapes that can avoid unnecessary retracing. Please refer to https://www.tensorflow.org/tutorials/customization/performance#python_or_tensor_args and https://www.tensorflow.org/api_docs/python/tf/function for more details.\n",
            "[0/10][30/200] Loss = 0.0\n",
            "[0/10][40/200] Loss = 115.32601928710938\n",
            "[0/10][50/200] Loss = 1.5939301252365112\n",
            "[0/10][60/200] Loss = 1.639963150024414\n",
            "[0/10][70/200] Loss = 0.3187417685985565\n",
            "[0/10][80/200] Loss = 3.5483760833740234\n",
            "[0/10][90/200] Loss = 1.6785457134246826\n",
            "[0/10][100/200] Loss = 1.5236259698867798\n",
            "[0/10][110/200] Loss = 2.198408365249634\n",
            "[0/10][120/200] Loss = 1.7543575763702393\n",
            "[0/10][130/200] Loss = 1.0106476545333862\n",
            "[0/10][140/200] Loss = 3.688727617263794\n",
            "[0/10][150/200] Loss = 1.7005360126495361\n",
            "[0/10][160/200] Loss = 1.30031156539917\n",
            "[0/10][170/200] Loss = 2.660595417022705\n",
            "[0/10][180/200] Loss = 2.1174545288085938\n",
            "[0/10][190/200] Loss = 1.8104984760284424\n",
            "[1/10][0/200] Loss = 2.2382936477661133\n",
            "[1/10][10/200] Loss = 2.0264346599578857\n",
            "[1/10][20/200] Loss = 1.789476752281189\n",
            "[1/10][30/200] Loss = 1.6492919921875\n",
            "[1/10][40/200] Loss = 1.7845828533172607\n",
            "[1/10][50/200] Loss = 1.7276068925857544\n",
            "[1/10][60/200] Loss = 1.6369630098342896\n",
            "[1/10][70/200] Loss = 1.5235533714294434\n",
            "[1/10][80/200] Loss = 1.8970617055892944\n",
            "[1/10][90/200] Loss = 1.7140333652496338\n",
            "[1/10][100/200] Loss = 1.5447450876235962\n",
            "[1/10][110/200] Loss = 2.038346290588379\n",
            "[1/10][120/200] Loss = 1.9363867044448853\n",
            "[1/10][130/200] Loss = 1.7432169914245605\n",
            "[1/10][140/200] Loss = 2.39501953125\n",
            "[1/10][150/200] Loss = 2.177065372467041\n",
            "[1/10][160/200] Loss = 1.918806791305542\n",
            "[1/10][170/200] Loss = 2.2520523071289062\n",
            "[1/10][180/200] Loss = 2.0343399047851562\n",
            "[1/10][190/200] Loss = 1.871956706047058\n",
            "[2/10][0/200] Loss = 1.941564679145813\n",
            "[2/10][10/200] Loss = 1.8518333435058594\n",
            "[2/10][20/200] Loss = 1.7208962440490723\n",
            "[2/10][30/200] Loss = 1.6017662286758423\n",
            "[2/10][40/200] Loss = 1.7787095308303833\n",
            "[2/10][50/200] Loss = 1.7005386352539062\n",
            "[2/10][60/200] Loss = 1.5960596799850464\n",
            "[2/10][70/200] Loss = 1.4669798612594604\n",
            "[2/10][80/200] Loss = 2.0777835845947266\n",
            "[2/10][90/200] Loss = 1.9435726404190063\n",
            "[2/10][100/200] Loss = 1.8113958835601807\n",
            "[2/10][110/200] Loss = 2.1499252319335938\n",
            "[2/10][120/200] Loss = 2.0174636840820312\n",
            "[2/10][130/200] Loss = 1.870474934577942\n",
            "[2/10][140/200] Loss = 2.0965843200683594\n",
            "[2/10][150/200] Loss = 1.9785293340682983\n",
            "[2/10][160/200] Loss = 1.8377255201339722\n",
            "[2/10][170/200] Loss = 2.014315605163574\n",
            "[2/10][180/200] Loss = 1.873822569847107\n",
            "[2/10][190/200] Loss = 1.8093841075897217\n",
            "[3/10][0/200] Loss = 1.8858734369277954\n",
            "[3/10][10/200] Loss = 1.815751314163208\n",
            "[3/10][20/200] Loss = 1.732606053352356\n",
            "[3/10][30/200] Loss = 1.6687778234481812\n",
            "[3/10][40/200] Loss = 1.828933835029602\n",
            "[3/10][50/200] Loss = 1.7774558067321777\n",
            "[3/10][60/200] Loss = 1.7373731136322021\n",
            "[3/10][70/200] Loss = 1.6979866027832031\n",
            "[3/10][80/200] Loss = 1.9199888706207275\n",
            "[3/10][90/200] Loss = 1.8597803115844727\n",
            "[3/10][100/200] Loss = 1.7950752973556519\n",
            "[3/10][110/200] Loss = 1.9480772018432617\n",
            "[3/10][120/200] Loss = 1.9236538410186768\n",
            "[3/10][130/200] Loss = 1.8858274221420288\n",
            "[3/10][140/200] Loss = 1.8758549690246582\n",
            "[3/10][150/200] Loss = 1.8623038530349731\n",
            "[3/10][160/200] Loss = 1.8374534845352173\n",
            "[3/10][170/200] Loss = 1.925668716430664\n",
            "[3/10][180/200] Loss = 1.8758571147918701\n",
            "[3/10][190/200] Loss = 1.8095242977142334\n",
            "[4/10][0/200] Loss = 1.7823989391326904\n",
            "[4/10][10/200] Loss = 1.775835633277893\n",
            "[4/10][20/200] Loss = 1.7593809366226196\n",
            "[4/10][30/200] Loss = 1.7399495840072632\n",
            "[4/10][40/200] Loss = 1.773095726966858\n",
            "[4/10][50/200] Loss = 1.7607394456863403\n",
            "[4/10][60/200] Loss = 1.7437188625335693\n",
            "[4/10][70/200] Loss = 1.72479248046875\n",
            "[4/10][80/200] Loss = 1.792273759841919\n",
            "[4/10][90/200] Loss = 1.779339075088501\n",
            "[4/10][100/200] Loss = 1.761014699935913\n",
            "[4/10][110/200] Loss = 1.9069486856460571\n",
            "[4/10][120/200] Loss = 1.8990403413772583\n",
            "[4/10][130/200] Loss = 1.880526065826416\n",
            "[4/10][140/200] Loss = 1.899137020111084\n",
            "[4/10][150/200] Loss = 1.8879841566085815\n",
            "[4/10][160/200] Loss = 1.8684762716293335\n",
            "[4/10][170/200] Loss = 1.8118897676467896\n",
            "[4/10][180/200] Loss = 1.799346923828125\n",
            "[4/10][190/200] Loss = 1.7804875373840332\n",
            "[5/10][0/200] Loss = 1.7767988443374634\n",
            "[5/10][10/200] Loss = 1.7703044414520264\n",
            "[5/10][20/200] Loss = 1.7540026903152466\n",
            "[5/10][30/200] Loss = 1.7347617149353027\n",
            "[5/10][40/200] Loss = 1.7643662691116333\n",
            "[5/10][50/200] Loss = 1.75406813621521\n",
            "[5/10][60/200] Loss = 1.7370295524597168\n",
            "[5/10][70/200] Loss = 1.7180349826812744\n",
            "[5/10][80/200] Loss = 1.7909226417541504\n",
            "[5/10][90/200] Loss = 1.7780085802078247\n",
            "[5/10][100/200] Loss = 1.7596365213394165\n",
            "[5/10][110/200] Loss = 1.9144816398620605\n",
            "[5/10][120/200] Loss = 1.9065673351287842\n",
            "[5/10][130/200] Loss = 1.8879826068878174\n",
            "[5/10][140/200] Loss = 1.9072916507720947\n",
            "[5/10][150/200] Loss = 1.8961083889007568\n",
            "[5/10][160/200] Loss = 1.8765227794647217\n",
            "[5/10][170/200] Loss = 1.811210036277771\n",
            "[5/10][180/200] Loss = 1.798753261566162\n",
            "[5/10][190/200] Loss = 1.7799766063690186\n",
            "[6/10][0/200] Loss = 1.7717525959014893\n",
            "[6/10][10/200] Loss = 1.7653155326843262\n",
            "[6/10][20/200] Loss = 1.7490952014923096\n",
            "[6/10][30/200] Loss = 1.729905605316162\n",
            "[6/10][40/200] Loss = 1.7582374811172485\n",
            "[6/10][50/200] Loss = 1.7479788064956665\n",
            "[6/10][60/200] Loss = 1.7309406995773315\n",
            "[6/10][70/200] Loss = 1.711912989616394\n",
            "[6/10][80/200] Loss = 1.7897096872329712\n",
            "[6/10][90/200] Loss = 1.7768137454986572\n",
            "[6/10][100/200] Loss = 1.7584121227264404\n",
            "[6/10][110/200] Loss = 1.921404480934143\n",
            "[6/10][120/200] Loss = 1.9134753942489624\n",
            "[6/10][130/200] Loss = 1.8948283195495605\n",
            "[6/10][140/200] Loss = 1.91476309299469\n",
            "[6/10][150/200] Loss = 1.9035420417785645\n",
            "[6/10][160/200] Loss = 1.883886456489563\n",
            "[6/10][170/200] Loss = 1.8106234073638916\n",
            "[6/10][180/200] Loss = 1.7982208728790283\n",
            "[6/10][190/200] Loss = 1.7794994115829468\n",
            "[7/10][0/200] Loss = 1.7671942710876465\n",
            "[7/10][10/200] Loss = 1.7608033418655396\n",
            "[7/10][20/200] Loss = 1.7446469068527222\n",
            "[7/10][30/200] Loss = 1.725501298904419\n",
            "[7/10][40/200] Loss = 1.752642035484314\n",
            "[7/10][50/200] Loss = 1.7424219846725464\n",
            "[7/10][60/200] Loss = 1.7253952026367188\n",
            "[7/10][70/200] Loss = 1.7063546180725098\n",
            "[7/10][80/200] Loss = 1.7886176109313965\n",
            "[7/10][90/200] Loss = 1.775738000869751\n",
            "[7/10][100/200] Loss = 1.7573174238204956\n",
            "[7/10][110/200] Loss = 1.92776620388031\n",
            "[7/10][120/200] Loss = 1.919817566871643\n",
            "[7/10][130/200] Loss = 1.9011149406433105\n",
            "[7/10][140/200] Loss = 1.9216135740280151\n",
            "[7/10][150/200] Loss = 1.9103522300720215\n",
            "[7/10][160/200] Loss = 1.8906337022781372\n",
            "[7/10][170/200] Loss = 1.8101084232330322\n",
            "[7/10][180/200] Loss = 1.7977420091629028\n",
            "[7/10][190/200] Loss = 1.7790591716766357\n",
            "[8/10][0/200] Loss = 1.763065218925476\n",
            "[8/10][10/200] Loss = 1.7567121982574463\n",
            "[8/10][20/200] Loss = 1.7406082153320312\n",
            "[8/10][30/200] Loss = 1.7215012311935425\n",
            "[8/10][40/200] Loss = 1.747536540031433\n",
            "[8/10][50/200] Loss = 1.7373532056808472\n",
            "[8/10][60/200] Loss = 1.7203433513641357\n",
            "[8/10][70/200] Loss = 1.7013019323349\n",
            "[8/10][80/200] Loss = 1.787631630897522\n",
            "[8/10][90/200] Loss = 1.7747663259506226\n",
            "[8/10][100/200] Loss = 1.756333589553833\n",
            "[8/10][110/200] Loss = 1.9336116313934326\n",
            "[8/10][120/200] Loss = 1.925641655921936\n",
            "[8/10][130/200] Loss = 1.9068892002105713\n",
            "[8/10][140/200] Loss = 1.927897334098816\n",
            "[8/10][150/200] Loss = 1.9165958166122437\n",
            "[8/10][160/200] Loss = 1.896819829940796\n",
            "[8/10][170/200] Loss = 1.809651494026184\n",
            "[8/10][180/200] Loss = 1.797309398651123\n",
            "[8/10][190/200] Loss = 1.7786544561386108\n",
            "[9/10][0/200] Loss = 1.7593179941177368\n",
            "[9/10][10/200] Loss = 1.7529971599578857\n",
            "[9/10][20/200] Loss = 1.7369370460510254\n",
            "[9/10][30/200] Loss = 1.7178640365600586\n",
            "[9/10][40/200] Loss = 1.7428796291351318\n",
            "[9/10][50/200] Loss = 1.7327308654785156\n",
            "[9/10][60/200] Loss = 1.7157405614852905\n",
            "[9/10][70/200] Loss = 1.6967054605484009\n",
            "[9/10][80/200] Loss = 1.786738395690918\n",
            "[9/10][90/200] Loss = 1.7738860845565796\n",
            "[9/10][100/200] Loss = 1.7554455995559692\n",
            "[9/10][110/200] Loss = 1.938982605934143\n",
            "[9/10][120/200] Loss = 1.9309910535812378\n",
            "[9/10][130/200] Loss = 1.9121934175491333\n",
            "[9/10][140/200] Loss = 1.9336634874343872\n",
            "[9/10][150/200] Loss = 1.9223226308822632\n",
            "[9/10][160/200] Loss = 1.9024947881698608\n",
            "[9/10][170/200] Loss = 1.8092418909072876\n",
            "[9/10][180/200] Loss = 1.7969164848327637\n",
            "[9/10][190/200] Loss = 1.7782820463180542\n"
          ],
          "name": "stdout"
        }
      ]
    },
    {
      "cell_type": "code",
      "metadata": {
        "id": "oxqFOWIlJBLf",
        "colab_type": "code",
        "colab": {
          "base_uri": "https://localhost:8080/",
          "height": 302
        },
        "outputId": "2c7a934f-9b38-4c63-d00b-646388641e2d"
      },
      "source": [
        "fpath, cls_true = random.choice(dataset)\n",
        "\n",
        "videodata = skvideo.io.vread(fpath)\n",
        "videodata = videodata.astype(np.float32) / 255.\n",
        "plt.imshow(videodata[30, ...])\n",
        "\n",
        "motion = np.mean(videodata[1:, ...] - videodata[:-1, ...], axis=3, keepdims=True)\n",
        "\n",
        "out = model(motion[None, ...])[0]\n",
        "cls_pred = np.argmax(out.numpy())\n",
        "\n",
        "print('True class:', classes[cls_true])\n",
        "print('Predicted class:', classes[cls_pred])"
      ],
      "execution_count": 41,
      "outputs": [
        {
          "output_type": "stream",
          "text": [
            "True class: jogging\n",
            "Predicted class: jogging\n"
          ],
          "name": "stdout"
        },
        {
          "output_type": "display_data",
          "data": {
            "image/png": "[encoded data removed]",
            "text/plain": [
              "<Figure size 432x288 with 1 Axes>"
            ]
          },
          "metadata": {
            "tags": [],
            "needs_background": "light"
          }
        }
      ]
    }
  ]
}