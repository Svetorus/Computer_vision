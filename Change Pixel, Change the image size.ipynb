{
 "cells": [
  {
   "cell_type": "code",
   "execution_count": 37,
   "metadata": {},
   "outputs": [],
   "source": [
    "import numpy as np\n",
    "from PIL import Image \n",
    "import os,sys"
   ]
  },
  {
   "cell_type": "markdown",
   "metadata": {},
   "source": [
    "### Change color pixel (меняем цвет пикселя)\n",
    "\n",
    "https://colorscheme.ru/color-converter.html¶"
   ]
  },
  {
   "cell_type": "code",
   "execution_count": 38,
   "metadata": {},
   "outputs": [],
   "source": [
    "# Меняем цвет пикселя в картинке(меняем фон)\n",
    "# На всей картинке находит цвет и заменяет его другим.\n",
    "im = Image.open('1.png')\n",
    "data = np.array(im)\n",
    "\n",
    "r1, g1, b1 = 90, 227, 129 # Original value(цвет который будем менять)\n",
    "r2, g2, b2 = 140, 255, 251 # Value that we want to replace it with(цвет пикселя на выходе)\n",
    "\n",
    "red, green, blue = data[:,:,0], data[:,:,1], data[:,:,2]\n",
    "mask = (red == r1) & (green == g1) & (blue == b1)\n",
    "data[:,:,:3][mask] = [r2, g2, b2]\n",
    "\n",
    "im = Image.fromarray(data)\n",
    "im.save('1_mod.png')"
   ]
  },
  {
   "cell_type": "code",
   "execution_count": 39,
   "metadata": {},
   "outputs": [],
   "source": [
    "# Меняем цвет пикселя в картинках в одной папке(меняем фон)\n",
    "# Перебором картинок меняет цвет на всех картинках\n",
    "def color(Path,out): \n",
    "    for imagePath in os.listdir(Path):\n",
    "        # imagePath содержит имя изображения\n",
    "\n",
    "        inputPath = os.path.join(Path, imagePath)\n",
    "        f, e = os.path.splitext(out+imagePath)\n",
    "        # inputPath содержит полное имя каталога\n",
    "        img = Image.open(inputPath)\n",
    "        fullOutPath = os.path.join(out, '#'+imagePath)# выводим '#' + название картинки\n",
    "        # fullOutPath содержит путь к выводу\n",
    "        # изображение, которое нужно сгенерировать\n",
    "        data = np.array(img)\n",
    "\n",
    "        r1, g1, b1 = 140, 255, 251 # Original value(цвет который будем менять)\n",
    "        r2, g2, b2 = 90, 227, 129 # Value that we want to replace it with(цвет на выходе)\n",
    "\n",
    "        red, green, blue = data[:,:,0], data[:,:,1], data[:,:,2]\n",
    "        mask = (red == r1) & (green == g1) & (blue == b1)\n",
    "        data[:,:,:3][mask] = [r2, g2, b2]\n",
    "\n",
    "        img = Image.fromarray(data)\n",
    "        img.save(fullOutPath)\n",
    "        print(fullOutPath)"
   ]
  },
  {
   "cell_type": "code",
   "execution_count": 40,
   "metadata": {},
   "outputs": [],
   "source": [
    "# путь к папке, содержащей необработанные изображения\n",
    "Path = \"./start\"\n",
    "# путь к папке, в которой будут находиться изменённые изображения\n",
    "out = \"./final/\"\n",
    "color(Path,out)"
   ]
  },
  {
   "cell_type": "code",
   "execution_count": 41,
   "metadata": {},
   "outputs": [],
   "source": [
    "# Меняем размер картинок во всех папках, указанной папки.\n",
    "# меняет цвет в картинках, заходит в папки(если они есть) и меняет цвет там тоже.\n",
    "def resize(inPath,outPath):\n",
    "    n=1 # запускаем нумерацию с 1\n",
    "    for d, dirs, files in os.walk(inPath):\n",
    "        for f in files:\n",
    "            path = os.path.join(d,f) # формирование адреса\n",
    "#           print(path)\n",
    "            img = Image.open(path)\n",
    "            fullOutPath = os.path.join(outPath, '#'+f'{n}.png')#(добавляем \"#\" к номеру)\n",
    "            # изображение, которое нужно сгенерировать\n",
    "            data = np.array(img)\n",
    "            \n",
    "            r1, g1, b1 = 140, 255, 251 # Original value(цвет который будем менять)\n",
    "            r2, g2, b2 = 90, 227, 129 # Value that we want to replace it with(цвет на выходе)\n",
    "            \n",
    "            red, green, blue = data[:,:,0], data[:,:,1], data[:,:,2]\n",
    "            mask = (red == r1) & (green == g1) & (blue == b1)\n",
    "            data[:,:,:3][mask] = [r2, g2, b2]\n",
    "            \n",
    "            img = Image.fromarray(data)\n",
    "            img.save(fullOutPath)\n",
    "            n+=1 # нумерция + 1\n",
    "            print(fullOutPath)"
   ]
  },
  {
   "cell_type": "code",
   "execution_count": 42,
   "metadata": {},
   "outputs": [],
   "source": [
    "# путь к папке, содержащей необработанные изображения\n",
    "inPath = \"./start\"\n",
    "# путь к папке, в которой будет находиться измененное изображение\n",
    "outPath =\"./final/\"\n",
    "resize(inPath,outPath)"
   ]
  },
  {
   "cell_type": "markdown",
   "metadata": {},
   "source": [
    "### Change size (меняем размер картинки(файла png,jpg ))"
   ]
  },
  {
   "cell_type": "code",
   "execution_count": 43,
   "metadata": {},
   "outputs": [],
   "source": [
    "# Меняем размер картинки\n",
    "im = Image.open(\"1.png\").convert('RGB')\n",
    "im = im.resize((1220,1000),resample=Image.NEAREST)\n",
    "im.save(\"new_1.png\")"
   ]
  },
  {
   "cell_type": "code",
   "execution_count": 44,
   "metadata": {},
   "outputs": [],
   "source": [
    "# Меняем размер картинок в папке.\n",
    "# Перебором картинок меняет размер на всех картинках\n",
    "def main(inPath,outPath): \n",
    "    for imagePath in os.listdir(inPath):\n",
    "        # imagePath содержит имя изображения\n",
    "\n",
    "        inputPath = os.path.join(inPath, imagePath)\n",
    "        f, e = os.path.splitext(outPath+imagePath)\n",
    "        # inputPath содержит полное имя каталога\n",
    "        img = Image.open(inputPath)\n",
    "        fullOutPath = os.path.join(outPath, '#'+imagePath)#(добавляем \"#\" к номеру)\n",
    "        # fullOutPath содержит путь к выводу\n",
    "        # изображение, которое нужно сгенерировать\n",
    "        img = Image.open(inputPath).convert('RGB')\n",
    "        img = img.resize((1000,1000),resample=Image.NEAREST)# задаем размер картинки\n",
    "        img.save(fullOutPath)\n",
    "        print(fullOutPath)"
   ]
  },
  {
   "cell_type": "code",
   "execution_count": 47,
   "metadata": {},
   "outputs": [],
   "source": [
    "# путь к папке, содержащей необработанные изображения\n",
    "inPath =\"./old\"\n",
    "# путь к папке, в которой будет находиться измененное изображение\n",
    "outPath =\"./new/\"\n",
    "main(inPath,outPath)"
   ]
  },
  {
   "cell_type": "code",
   "execution_count": 46,
   "metadata": {},
   "outputs": [],
   "source": [
    "# Меняем размер картинок во всех папках, указанной папки.\n",
    "# меняет размер в картинках, заходит в папки(если они есть) и меняет размер там тоже.\n",
    "def rename(inPath,outPath):\n",
    "    n=1 # запускаем номерцию с 1\n",
    "    for d, dirs, files in os.walk(inPath):\n",
    "        for f in files:\n",
    "            path = os.path.join(d,f) # формирование адреса\n",
    "#           print(path)\n",
    "            img = Image.open(path)\n",
    "            fullOutPath = os.path.join(outPath, '#'+f'{n}.png')#(добавляем \"#\" к номеру)\n",
    "            img = Image.open(path).convert('RGB')\n",
    "            img = img.resize((1000,1000),resample=Image.NEAREST)# задаем размер картинки\n",
    "            img.save(fullOutPath)\n",
    "            n+=1\n",
    "            print(fullOutPath)"
   ]
  },
  {
   "cell_type": "code",
   "execution_count": 48,
   "metadata": {},
   "outputs": [],
   "source": [
    "# путь к папке, содержащей необработанные изображения\n",
    "Path = \"./old\"\n",
    "# путь к папке, в которой будут находиться измененные изображения\n",
    "out =\"./new/\"\n",
    "rename(Path,out)"
   ]
  },
  {
   "cell_type": "markdown",
   "metadata": {},
   "source": [
    "### numbering png,jpg (пронумеровать все изображения в папках png, jpg)"
   ]
  },
  {
   "cell_type": "code",
   "execution_count": 29,
   "metadata": {},
   "outputs": [],
   "source": [
    "# Нумерация файлов\n",
    "# нумеруют картинки png, заходит в папки(если они есть) и нумерует там тоже.\n",
    "def numbering(inPath,outPath):\n",
    "    n=1 # начинаем с единицы\n",
    "    for d, dirs, files in os.walk(inPath):\n",
    "        for f in files:\n",
    "            path = os.path.join(d,f) # формирование адреса\n",
    "#           print(path)\n",
    "            img = Image.open(path)\n",
    "            fullOutPath = os.path.join(outPath, f'{n}.png')# добавляем .png или .jpg\n",
    "            img.save(fullOutPath)\n",
    "            n+=1 \n",
    "            print(fullOutPath)"
   ]
  },
  {
   "cell_type": "code",
   "execution_count": 49,
   "metadata": {},
   "outputs": [],
   "source": [
    "# путь к папке, содержащей изображения\n",
    "inPath = \"./start\"\n",
    "# путь к папке, в которой будет находиться измененные изображения\n",
    "outPath =\"./stop/\"\n",
    "numbering(inPath,outPath)"
   ]
  }
 ],
 "metadata": {
  "kernelspec": {
   "display_name": "Python 3",
   "language": "python",
   "name": "python3"
  },
  "language_info": {
   "codemirror_mode": {
    "name": "ipython",
    "version": 3
   },
   "file_extension": ".py",
   "mimetype": "text/x-python",
   "name": "python",
   "nbconvert_exporter": "python",
   "pygments_lexer": "ipython3",
   "version": "3.6.10"
  }
 },
 "nbformat": 4,
 "nbformat_minor": 4
}
